{
 "cells": [
  {
   "cell_type": "markdown",
   "metadata": {
    "collapsed": true
   },
   "source": [
    "## Test a Perceptual Phenomenon\n",
    "### Statistics: The Science of Decisions Project Instructions\n"
   ]
  },
  {
   "cell_type": "markdown",
   "metadata": {
    "collapsed": true
   },
   "source": [
    "### Background Information\n",
    "#### In a Stroop task, participants are presented with a list of words, with each word displayed in a color of ink. The participant’s task is to say out loud the color of the ink in which the word is printed. The task has two conditions: a congruent words condition, and an incongruent words condition. In the congruent words condition, the words being displayed are color words whose names match the colors in which they are printed: for example RED, BLUE. In the incongruent words condition, the words displayed are color words whose names do not match the colors in which they are printed: for example PURPLE, ORANGE. In each case, we measure the time it takes to name the ink colors in equally-sized lists. Each participant will go through and record a time from each condition.\n",
    "\n"
   ]
  },
  {
   "cell_type": "markdown",
   "metadata": {},
   "source": [
    "### Questions for Investigation\n",
    "#### As a general note, be sure to keep a record of any resources that you use or refer to in the creation of your project. You will need to report your sources as part of the project submission."
   ]
  },
  {
   "cell_type": "markdown",
   "metadata": {},
   "source": [
    "#### 1. What is our independent variable? What is our dependent variable?\n",
    "\n",
    "The independent variable is the condition (i.e., the congruent condition and the incongruent condition). \n",
    "\n",
    "The dependent variable is time."
   ]
  },
  {
   "cell_type": "markdown",
   "metadata": {},
   "source": [
    "#### 2. What is an appropriate set of hypotheses for this task? What kind of statistical test do you expect to perform? Justify your choices.\n",
    "\n",
    "In this case, the null hypothesis is designed in such a way that it must be disproved that there is no difference on the dependent variable between the two conditions under investigation (the congruent and incongruent condition). In our case, this would be that the difference between the congruent condition and incongruent condition have no statistically significant effect on the dependent variable of time. Since the means of each condition appear to be quite different (about 14 versus 22) we want to see if this is due to variance in the samples or is statistically significant. We start under the presumption that is is due to random variance and must reject that assumption in the null hypothesis to show a statistically significant difference exists.\n",
    "\n",
    "Mathematically, this is represented as follows: H0: μ1 = μ2 \n",
    "\n",
    "Where:\n",
    "\n",
    "H0 = Null hypothesis: The two conditions have a statistically equal effect on the dependent variable. \n",
    "\n",
    "μ1 = Congruent condition: The colors of the letters in the Stroop test match the color that the letters spell. \n",
    "\n",
    "μ2 = Incongruent condition: The colors of the letters in the Stroop test do not match the color that the letters spell.\n",
    "\n",
    "In this case, the alternate hypothesis is designed in such a way that it is true if the null hypothesis is rejected. Here this alternative hypothesis would be that congruent condition is not equal to the incongruent condition with respect to the dependent variable of time. \n",
    "\n",
    "Mathematically, this is represented as follows: H1: μ1 ≠ μ2\n",
    "\n",
    "Where:\n",
    "\n",
    "H1 = Alternate hypothesis: The two conditions have a statistically unequal effect on the dependent variable.\n",
    "\n",
    "μ1 = Congruent condition: The colors of the letters in the Stroop test match the color that the letters spell.\n",
    "\n",
    "μ2 = Incongruent condition: The colors of the letters in the Stroop test do not match the color that the letters spell.\n",
    "      \n"
   ]
  },
  {
   "cell_type": "markdown",
   "metadata": {},
   "source": [
    "I expect to perform a t-test on this data. We have chosen a t-test here instead of a z-test because we are not comparing a population mean to a sample mean. We do not know parameters about the population, sp we should use the t-test.  Instead, we are comparing two sample means to each other. Also, since our sample size is under 30, a t-test is more appropriate here. Also, t-tests are robust to the asumption of normality amd can work without normally distributed data when the data is symmetric, unimodal, and continuous. Since the data in the visualizations below do not seem perfectly normally distributed but appear to meet the other conditions, a t-test is appropriate to deal with the possibility of non-normality.\n",
    "\n",
    "Source: http://blog.minitab.com/blog/understanding-statistics-and-its-application/what-should-i-do-if-my-data-is-not-normal-v2\n",
    "\n",
    "Source: http://support.minitab.com/en-us/minitab/17/topic-library/basic-statistics-and-graphs/hypothesis-tests/tests-of-means/why-use-paired-t/\n",
    "\n",
    "Source: http://www.psychology.emory.edu/clinical/bliwise/Tutorials/TOM/meanstests/assump.htm\n",
    "\n",
    "\n",
    "Do we know any parameters of the population, like standard deviation?\n",
    "Do we assume anything about the population distribution?\n",
    "\n",
    "\n",
    "#### Now it’s your chance to try out the Stroop task for yourself. Go to this link, which has a Java-based applet for performing the Stroop task. Record the times that you received on the task (you do not need to submit your times to the site.) Now, download this dataset which contains results from a number of participants in the task. Each row of the dataset contains the performance for one participant, with the first number their results on the congruent task and the second number their performance on the incongruent task.\n",
    "\n",
    "When I performed this task, these were my results: \n",
    "\n",
    "\n",
    "congruent condition: 12.998 seconds \n",
    "\n",
    "incongruent condition: 20.486 seconds. "
   ]
  },
  {
   "cell_type": "markdown",
   "metadata": {},
   "source": [
    "#### 3. Report some descriptive statistics regarding this dataset. Include at least one measure of central tendency and at least one measure of variability."
   ]
  },
  {
   "cell_type": "code",
   "execution_count": 1,
   "metadata": {},
   "outputs": [],
   "source": [
    "import matplotlib.pyplot as plt\n",
    "import numpy as np\n",
    "import pandas as pd \n",
    "import seaborn as sns\n",
    "import scipy.stats as stats\n",
    "import pylab as pl\n",
    "\n",
    "%matplotlib inline"
   ]
  },
  {
   "cell_type": "code",
   "execution_count": 2,
   "metadata": {},
   "outputs": [],
   "source": [
    "sd_df = pd.read_csv('stroopdata.csv')"
   ]
  },
  {
   "cell_type": "code",
   "execution_count": 17,
   "metadata": {},
   "outputs": [
    {
     "name": "stdout",
     "output_type": "stream",
     "text": [
      "14.051125\n",
      "3.55935795765\n"
     ]
    }
   ],
   "source": [
    "print(np.mean(sd_df['Congruent']))\n",
    "print(np.std(sd_df['Congruent'], ddof=1))"
   ]
  },
  {
   "cell_type": "code",
   "execution_count": 18,
   "metadata": {},
   "outputs": [
    {
     "name": "stdout",
     "output_type": "stream",
     "text": [
      "22.0159166667\n",
      "4.79705712247\n"
     ]
    }
   ],
   "source": [
    "print(np.mean(sd_df['Incongruent']))\n",
    "print(np.std(sd_df['Incongruent'], ddof=1))"
   ]
  },
  {
   "cell_type": "markdown",
   "metadata": {},
   "source": [
    "Looking at the data for the conguent condition, we can see a mean of 14.05 and a standard deviation of 3.56\n",
    "\n",
    "Looking at the data for the inconguent condition, we can see a mean of 22.02 and a standard deviation of 4.80"
   ]
  },
  {
   "cell_type": "markdown",
   "metadata": {},
   "source": [
    "####  4. Provide one or two visualizations that show the distribution of the sample data. Write one or two sentences noting what you observe about the plot or plots."
   ]
  },
  {
   "cell_type": "code",
   "execution_count": 5,
   "metadata": {},
   "outputs": [
    {
     "data": {
      "text/plain": [
       "Text(0,0.5,'Count')"
      ]
     },
     "execution_count": 5,
     "metadata": {},
     "output_type": "execute_result"
    },
    {
     "data": {
      "image/png": "[encoded data removed]",
      "text/plain": [
       "<Figure size 432x288 with 1 Axes>"
      ]
     },
     "metadata": {},
     "output_type": "display_data"
    }
   ],
   "source": [
    "sns.set()\n",
    "# bin_edges = [8, 9, 10, 11, 12, 13, 14, 15, 16, 17, 18, 19, 20, 21, 22]\n",
    "plt.hist(sd_df[\"Congruent\"], bins=9)\n",
    "plt.xlabel(\"Seconds\")\n",
    "plt.ylabel(\"Count\")"
   ]
  },
  {
   "cell_type": "code",
   "execution_count": 6,
   "metadata": {},
   "outputs": [
    {
     "data": {
      "text/plain": [
       "(array([0.10950504, 0.05475252, 0.1368813 , 0.10950504, 0.08212878,\n",
       "        0.05475252, 0.05475252, 0.02737626, 0.02737626]),\n",
       " array([ 8.63 , 10.152, 11.674, 13.196, 14.718, 16.24 , 17.762, 19.284,\n",
       "        20.806, 22.328]),\n",
       " <a list of 9 Patch objects>)"
      ]
     },
     "execution_count": 6,
     "metadata": {},
     "output_type": "execute_result"
    },
    {
     "data": {
      "image/png": "[encoded data removed]",
      "text/plain": [
       "<Figure size 432x288 with 1 Axes>"
      ]
     },
     "metadata": {},
     "output_type": "display_data"
    }
   ],
   "source": [
    "h = sorted(sd_df[\"Congruent\"])\n",
    "fit = stats.norm.pdf(h, np.mean(h), np.std(h))  \n",
    "pl.plot(h,fit,'-o')\n",
    "pl.hist(h,density=True, bins=9)\n",
    "# Source: https://stackoverflow.com/questions/20011494/plot-normal-distribution-with-matplotlib"
   ]
  },
  {
   "cell_type": "code",
   "execution_count": 7,
   "metadata": {},
   "outputs": [
    {
     "name": "stderr",
     "output_type": "stream",
     "text": [
      "C:\\Users\\rob.hickey\\AppData\\Local\\Continuum\\Anaconda2\\lib\\site-packages\\matplotlib\\axes\\_axes.py:6462: UserWarning: The 'normed' kwarg is deprecated, and has been replaced by the 'density' kwarg.\n",
      "  warnings.warn(\"The 'normed' kwarg is deprecated, and has been \"\n"
     ]
    },
    {
     "data": {
      "image/png": "[encoded data removed]",
      "text/plain": [
       "<Figure size 432x288 with 1 Axes>"
      ]
     },
     "metadata": {},
     "output_type": "display_data"
    }
   ],
   "source": [
    "sns.distplot(sd_df[\"Congruent\"], bins= 9, kde=True, rug=True);\n",
    "\n",
    "# Source used: https://seaborn.pydata.org/tutorial/distributions.html"
   ]
  },
  {
   "cell_type": "markdown",
   "metadata": {},
   "source": [
    "I tried two different approaches to look at the distribution of the sample data. Using the first approach,\n",
    "I found it difficult to get the binning right in order to bring out the shape of the data. I played around with it a lot and could not get it right. The second graph, using Seaborn, looks much better and the kernel density estimation maxes out right on the mean at 14.05, which I take to mean the distribution is fairly normal. \n",
    "\n",
    "Using the rug argument is very helpful here as well as I can see where the data points fall within each bin. "
   ]
  },
  {
   "cell_type": "code",
   "execution_count": 8,
   "metadata": {},
   "outputs": [
    {
     "data": {
      "text/plain": [
       "Text(0,0.5,'Count')"
      ]
     },
     "execution_count": 8,
     "metadata": {},
     "output_type": "execute_result"
    },
    {
     "data": {
      "image/png": "[encoded data removed]",
      "text/plain": [
       "<Figure size 432x288 with 1 Axes>"
      ]
     },
     "metadata": {},
     "output_type": "display_data"
    }
   ],
   "source": [
    "# bin_edges1 = [15, 17.5, 20, 22.5, 25, 27.5, 30, 32.5, 35]\n",
    "plt.hist(sd_df[\"Incongruent\"], bins=9)\n",
    "plt.xlabel(\"Seconds\")\n",
    "plt.ylabel(\"Count\")"
   ]
  },
  {
   "cell_type": "code",
   "execution_count": 9,
   "metadata": {},
   "outputs": [
    {
     "data": {
      "text/plain": [
       "(array([0.07665576, 0.07665576, 0.15331153, 0.03832788, 0.07665576,\n",
       "        0.        , 0.        , 0.        , 0.03832788]),\n",
       " array([15.687     , 17.86122222, 20.03544444, 22.20966667, 24.38388889,\n",
       "        26.55811111, 28.73233333, 30.90655556, 33.08077778, 35.255     ]),\n",
       " <a list of 9 Patch objects>)"
      ]
     },
     "execution_count": 9,
     "metadata": {},
     "output_type": "execute_result"
    },
    {
     "data": {
      "image/png": "[encoded data removed]",
      "text/plain": [
       "<Figure size 432x288 with 1 Axes>"
      ]
     },
     "metadata": {},
     "output_type": "display_data"
    }
   ],
   "source": [
    "h1 = sorted(sd_df[\"Incongruent\"])\n",
    "fit = stats.norm.pdf(h1, np.mean(h1), np.std(h1))  \n",
    "pl.plot(h1,fit,'-o')\n",
    "pl.hist(h1,density=True, bins=9)\n",
    "# Source: https://stackoverflow.com/questions/20011494/plot-normal-distribution-with-matplotlib"
   ]
  },
  {
   "cell_type": "code",
   "execution_count": 10,
   "metadata": {},
   "outputs": [
    {
     "name": "stderr",
     "output_type": "stream",
     "text": [
      "C:\\Users\\rob.hickey\\AppData\\Local\\Continuum\\Anaconda2\\lib\\site-packages\\matplotlib\\axes\\_axes.py:6462: UserWarning: The 'normed' kwarg is deprecated, and has been replaced by the 'density' kwarg.\n",
      "  warnings.warn(\"The 'normed' kwarg is deprecated, and has been \"\n"
     ]
    },
    {
     "data": {
      "image/png": "[encoded data removed]",
      "text/plain": [
       "<Figure size 432x288 with 1 Axes>"
      ]
     },
     "metadata": {},
     "output_type": "display_data"
    }
   ],
   "source": [
    "sns.distplot(sd_df[\"Incongruent\"], bins=9, kde=True, rug=True);\n",
    "\n",
    "# Source used: https://seaborn.pydata.org/tutorial/distributions.html"
   ]
  },
  {
   "cell_type": "markdown",
   "metadata": {},
   "source": [
    "The distribution in the incongruent condition is a bit more interesting to me. We have data points way out on the right, and the data points are much more spread out, indicating much more significant differences in how experimental subjects react to this condition. The kernel density estimator maxes out right around the mean of 22. This data does not really appear to be normally distributed, but since the sample size is so low, it's hard to say anything definitive in this regard. It's possible that the data points on the far right side of the incongruent graphs are a result of people getting their heads all confused trying to determing the best strategy to use to find the color of the text.  \n",
    "\n",
    "Using both of these graphs, I can see that binning has a huge impact on how the data appears to be shaped in such small samples sizes. Using the rug argument is very helpful here as well as I can see where the data points fall within each bin. "
   ]
  },
  {
   "cell_type": "markdown",
   "metadata": {},
   "source": [
    "#### 5. Now, perform the statistical test and report your results. What is your confidence level and your critical statistic value? Do you reject the null hypothesis or fail to reject it? Come to a conclusion in terms of the experiment task. Did the results match up with your expectations?\n",
    "\n",
    "Given the nature of the data, in that the same sample population is being used for two treatments or conditions, I am going to use a paired-sample t-test here. I am using this test to see if the difference in the means for the two conditions (a congruent condition and an incongruent condition) are significantly different.\n",
    "\n",
    "To do this, I will determine whether I can reject the null hypothesis (reject that there is no statistical significance between the two conditions) by seeing it the calculated test statistic is greater than the critical t value.\n",
    "\n",
    "So, I will look at the t distribution table here to find out what my critical t-value is: https://s3.amazonaws.com/udacity-hosted-downloads/t-table.jpg\n",
    "\n",
    "Given that the degrees of freedom is 1 less than the sample size (n=24 so df=23) and I want to use a confidence interval of 90%, the critical t value is 1.319.\n",
    "\n",
    "Now let's calculate the test statistic.\n"
   ]
  },
  {
   "cell_type": "code",
   "execution_count": 11,
   "metadata": {},
   "outputs": [
    {
     "name": "stdout",
     "output_type": "stream",
     "text": [
      "7.96479166667\n"
     ]
    }
   ],
   "source": [
    "mean_diff = np.mean(sd_df['Incongruent']) - np.mean(sd_df['Congruent'])\n",
    "\n",
    "print(mean_diff)"
   ]
  },
  {
   "cell_type": "markdown",
   "metadata": {},
   "source": [
    "Now we need to divide that difference in means by the estimated standard error of the mean, which is calculated below:"
   ]
  },
  {
   "cell_type": "code",
   "execution_count": 12,
   "metadata": {},
   "outputs": [],
   "source": [
    "difference = sd_df['Congruent'] - sd_df['Incongruent']"
   ]
  },
  {
   "cell_type": "code",
   "execution_count": 13,
   "metadata": {},
   "outputs": [
    {
     "name": "stdout",
     "output_type": "stream",
     "text": [
      "0     -7.199\n",
      "1     -1.950\n",
      "2    -11.650\n",
      "3     -7.057\n",
      "4     -8.134\n",
      "5     -8.640\n",
      "6     -9.880\n",
      "7     -8.407\n",
      "8    -11.361\n",
      "9    -11.802\n",
      "10    -2.196\n",
      "11    -3.346\n",
      "12    -2.437\n",
      "13    -3.401\n",
      "14   -17.055\n",
      "15   -10.028\n",
      "16    -6.644\n",
      "17    -9.790\n",
      "18    -6.081\n",
      "19   -21.919\n",
      "20   -10.950\n",
      "21    -3.727\n",
      "22    -2.348\n",
      "23    -5.153\n",
      "dtype: float64\n"
     ]
    }
   ],
   "source": [
    "print(difference)"
   ]
  },
  {
   "cell_type": "code",
   "execution_count": 19,
   "metadata": {},
   "outputs": [
    {
     "data": {
      "text/plain": [
       "4.864826910359056"
      ]
     },
     "execution_count": 19,
     "metadata": {},
     "output_type": "execute_result"
    }
   ],
   "source": [
    "sd_diff = np.std(difference, ddof=1)\n",
    "sd_diff"
   ]
  },
  {
   "cell_type": "code",
   "execution_count": 20,
   "metadata": {},
   "outputs": [
    {
     "data": {
      "text/plain": [
       "0.9930286347783406"
      ]
     },
     "execution_count": 20,
     "metadata": {},
     "output_type": "execute_result"
    }
   ],
   "source": [
    "standard_error = sd_diff/np.sqrt(24)\n",
    "standard_error"
   ]
  },
  {
   "cell_type": "code",
   "execution_count": 21,
   "metadata": {},
   "outputs": [
    {
     "data": {
      "text/plain": [
       "8.020706944109955"
      ]
     },
     "execution_count": 21,
     "metadata": {},
     "output_type": "execute_result"
    }
   ],
   "source": [
    "test_statistic = mean_diff/standard_error\n",
    "test_statistic"
   ]
  },
  {
   "cell_type": "markdown",
   "metadata": {},
   "source": [
    "Ok, great. So because our calculated test statistic (8.02) is greater than our t value from that chart (1.319) that had a df of 23 and a confidence interval of 90%, we reject the null hypothesis and find that there is a statstically significant time difference in the completion of the task under each condition. Subjectivly, this result seemed to match up with my experience in performing the tasks.  "
   ]
  },
  {
   "cell_type": "markdown",
   "metadata": {},
   "source": [
    "### References\n",
    "\n",
    "For paired sample t-test: https://libguides.library.kent.edu/SPSS/PairedSamplestTest \n",
    "\n",
    "For t value: https://s3.amazonaws.com/udacity-hosted-downloads/t-table.jpg \n",
    "\n",
    "For confidence interval understanding: https://www.youtube.com/watch?v=9jTJD5SLweY \n",
    "\n",
    "Udacity forums to help think about this problem."
   ]
  },
  {
   "cell_type": "markdown",
   "metadata": {},
   "source": [
    "#### 6. Optional: What do you think is responsible for the effects observed? Can you think of an alternative or similar task that would result in a similar effect? Some research about the problem will be helpful for thinking about these two questions!"
   ]
  },
  {
   "cell_type": "markdown",
   "metadata": {
    "collapsed": true
   },
   "source": [
    "The effects observed are the result of information processing the brain. In the congruent condition, the brain only needs to process one color signal and output it. In the incongruent condition, the brain needs to process two pieces of conflicting information and then decide which one it want to output, which takes more time.\n",
    "\n",
    "A alternative task that I think woudl result in significant differences is having the same subjects perform the task under the congruent condition while they are sober and after they have a blood alcohol content over .08%."
   ]
  }
 ],
 "metadata": {
  "kernelspec": {
   "display_name": "Python [conda root]",
   "language": "python",
   "name": "conda-root-py"
  },
  "language_info": {
   "codemirror_mode": {
    "name": "ipython",
    "version": 2
   },
   "file_extension": ".py",
   "mimetype": "text/x-python",
   "name": "python",
   "nbconvert_exporter": "python",
   "pygments_lexer": "ipython2",
   "version": "2.7.15"
  }
 },
 "nbformat": 4,
 "nbformat_minor": 2
}
